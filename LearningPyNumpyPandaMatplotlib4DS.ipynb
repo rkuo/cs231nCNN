{
 "cells": [
  {
   "cell_type": "markdown",
   "metadata": {},
   "source": [
    "# Learning Python, Numpy, Panda and Matplotlib for Data Science"
   ]
  },
  {
   "cell_type": "markdown",
   "metadata": {},
   "source": [
    "The intent of this exercise is to improve the background skill for learning Data Science and Machine Learning. \n",
    "\n",
    "It mainly based on Stanford [cs231n python tutorial][1] and [cs228 jupyter notebook][2] and added some other materials which are listed in reference. I plan to cover:\n",
    "\n",
    "- Basic Python: Basic data types (Collectors, Lists, Dictionaries, Sets, Tuples), Functions, Classes; Functional programming.- Numpy: Arrays, Array indexing, Datatypes, Array math, Broadcasting.\n",
    "- Matplotlib: Plotting, Subplots, Images.\n",
    "- IPython: Creating notebooks, Typical workflows; Seaborn.\n",
    "\n",
    "This exercise is written with Python 3.7, some syntax may not compatible with Python 2.7, see [differences][3].\n",
    "\n",
    "[1]: http://cs231n.github.io/python-numpy-tutorial/\n",
    "[2]: https://github.com/kuleshov/cs228-material/blob/master/tutorials/python/cs228-python-tutorial.ipynb\n",
    "[3]: https://www.geeksforgeeks.org/important-differences-between-python-2-x-and-python-3-x-with-examples/"
   ]
  },
  {
   "cell_type": "code",
   "execution_count": 1,
   "metadata": {},
   "outputs": [],
   "source": [
    "# ![learning plan map](https://www.evernote.com/l/AS7k_sVgE65KK5n0wBrl_-6cB04fNIYrSzkB/image.png)"
   ]
  },
  {
   "cell_type": "markdown",
   "metadata": {},
   "source": [
    "## Reference\n",
    "- [cs228 python tutorial][3]\n",
    "- [Top 15 Python Libraries for Data Science in 2017][4]\n",
    "- [Top 5 Python IDEs For Data Science][5]\n",
    "\n",
    "[3]: https://github.com/kuleshov/cs228-material/blob/master/tutorials/python/cs228-python-tutorial.ipynb\n",
    "[4]: https://medium.com/activewizards-machine-learning-company/top-15-python-libraries-for-data-science-in-in-2017-ab61b4f9b4a7\n",
    "[5]: https://www.datacamp.com/community/tutorials/data-science-python-ide"
   ]
  },
  {
   "cell_type": "markdown",
   "metadata": {},
   "source": [
    "## Why Python?\n",
    "See short comparisons [Comparison of top data science libraries for Python, R and Scala [Infographic]][1] and [Which Languages Should You Learn For Data Science?][2]\n",
    "\n",
    "![compare R, Scala, Python][3]\n",
    "\n",
    "[1]: https://medium.com/activewizards-machine-learning-company/comparison-of-top-data-science-libraries-for-python-r-and-scala-infographic-574069949267\n",
    "[2]: https://medium.freecodecamp.org/which-languages-should-you-learn-for-data-science-e806ba55a81f\n",
    "[3]: https://cdn-images-1.medium.com/max/1800/0*gorWChPPTZpr9ULL.png"
   ]
  },
  {
   "cell_type": "markdown",
   "metadata": {},
   "source": [
    "## Anaconda\n",
    "Anaconda helps to create different development environments and install required packages.\n",
    "- [Python Tutorial: Anaconda - Installation and Using Conda][1]\n",
    "- [Use Anaconda][2]\n",
    "\n",
    "[1]: https://www.youtube.com/watch?v=YJC6ldI3hWk\n",
    "[2]: https://medium.freecodecamp.org/why-you-need-python-environments-and-how-to-manage-them-with-conda-85f155f4353c"
   ]
  },
  {
   "cell_type": "markdown",
   "metadata": {},
   "source": [
    "## Python\n",
    "\n",
    "Copying some notes from [Moving to Python from other computer languages][1] here;\n",
    "- Significant Whitespace\n",
    "    Whitespace and indents are important. Python uses whitespace to signify end-of-line and code blocks. This may annoy you at first, but the more you read the code the more you will like it.\n",
    "- Where you would use `<vector T>`, use lists, or tuples, that is [] or (). Where you would use `<map T1, T2>`, use dictionaries, that is {} .\n",
    "- For iteration: \n",
    "    - For item in alist: iterates over all the items in alist, one by one .. where alist is a sequence, i.e. a list, tuple, or string. \n",
    "    - To iterate over a sublist, use slices: for item in alist[1:-1]: does as above, but omits the first and last items.\n",
    "- For reference the excellent [Python Quick Reference][3] and the [Module Index of the Python][4]\n",
    "- See [Language comparison][2] to speedup language, [PEP 8 -- Style Guide for Python Code][5] for coding style. \n",
    "\n",
    "[1]: https://wiki.python.org/moin/MovingToPythonFromOtherLanguages\n",
    "[2]: https://wiki.python.org/moin/LanguageComparisons\n",
    "[3]: http://rgruet.free.fr/PQR24/PQR2.4.html\n",
    "[4]: https://docs.python.org/3.7/py-modindex.html\n",
    "[5]: https://www.python.org/dev/peps/pep-0008/"
   ]
  },
  {
   "cell_type": "markdown",
   "metadata": {},
   "source": [
    "### Reference\n",
    "- [cs231n python tutorial][1] \n",
    "- [cs228 jupyter notebook][2]\n",
    "- [Python cheat sheet][3], source of cheat sheet below.\n",
    "- [Python 3 in mindmap][4], [readme and notebook version link][5]\n",
    "\n",
    "[1]: http://cs231n.github.io/python-numpy-tutorial/\n",
    "[2]: https://github.com/kuleshov/cs228-material/blob/master/tutorials/python/cs228-python-tutorial.ipynb\n",
    "[3]: https://www.datacamp.com/community/tutorials/python-data-science-cheat-sheet-basics\n",
    "[4]: http://coodict.github.io/python3-in-one-pic/\n",
    "[5]: https://github.com/coodict/python3-in-one-pic/blob/master/README.md"
   ]
  },
  {
   "cell_type": "markdown",
   "metadata": {},
   "source": [
    "![python cheat sheet][1]\n",
    "\n",
    "[1]: https://s3.amazonaws.com/assets.datacamp.com/blog_assets/Cheat+Sheets/content_pythonfordatascience.png"
   ]
  },
  {
   "cell_type": "markdown",
   "metadata": {},
   "source": [
    "### Data Type"
   ]
  },
  {
   "cell_type": "markdown",
   "metadata": {},
   "source": [
    "#### Numbers"
   ]
  },
  {
   "cell_type": "code",
   "execution_count": 2,
   "metadata": {},
   "outputs": [
    {
     "name": "stdout",
     "output_type": "stream",
     "text": [
      "5 <class 'int'>\n"
     ]
    }
   ],
   "source": [
    "x = 5\n",
    "print(x, type(x))"
   ]
  },
  {
   "cell_type": "code",
   "execution_count": 3,
   "metadata": {},
   "outputs": [
    {
     "name": "stdout",
     "output_type": "stream",
     "text": [
      "6\n",
      "4\n",
      "5\n",
      "2.5\n",
      "25\n"
     ]
    }
   ],
   "source": [
    "print(x + 1)   # x only assigned once\n",
    "print(x - 1)\n",
    "print(x * 1)\n",
    "print(x / 2)\n",
    "print(x ** 2)"
   ]
  },
  {
   "cell_type": "code",
   "execution_count": 4,
   "metadata": {},
   "outputs": [
    {
     "name": "stdout",
     "output_type": "stream",
     "text": [
      "5\n",
      "6\n"
     ]
    }
   ],
   "source": [
    "print(x)   # x is assigned before or run-all\n",
    "x += 1     # x is re-assigned\n",
    "print(x)\n",
    "x *= 2     # double the current x value"
   ]
  },
  {
   "cell_type": "markdown",
   "metadata": {},
   "source": [
    "#### Strings"
   ]
  },
  {
   "cell_type": "code",
   "execution_count": 5,
   "metadata": {},
   "outputs": [
    {
     "name": "stdout",
     "output_type": "stream",
     "text": [
      "hello\n"
     ]
    },
    {
     "data": {
      "text/plain": [
       "(None, 5)"
      ]
     },
     "execution_count": 5,
     "metadata": {},
     "output_type": "execute_result"
    }
   ],
   "source": [
    "hello = 'hello'   # String literals can use single quotes\n",
    "world = \"world\"   # or double quotes; it does not matter.\n",
    "print(hello), len(hello)"
   ]
  },
  {
   "cell_type": "code",
   "execution_count": 6,
   "metadata": {},
   "outputs": [
    {
     "name": "stdout",
     "output_type": "stream",
     "text": [
      "hello world! \n",
      "hello world! hello world! \n"
     ]
    }
   ],
   "source": [
    "hw = hello + ' ' + world + '! '  # String concatenation\n",
    "print(hw)\n",
    "print(hw * 2)"
   ]
  },
  {
   "cell_type": "code",
   "execution_count": 7,
   "metadata": {},
   "outputs": [
    {
     "name": "stdout",
     "output_type": "stream",
     "text": [
      "Hello\n",
      "HELLO\n",
      "5\n",
      "  hello\n",
      " hello \n",
      "he(ell)(ell)o\n",
      "world\n"
     ]
    }
   ],
   "source": [
    "s = \"hello\"\n",
    "\n",
    "print(s.capitalize())  # Capitalize a string, only the first letter; -> prints \"Hello\"\n",
    "print(s.upper())       # Convert a string to uppercase; -> prints \"HELLO\"\n",
    "print(len(s))\n",
    "print(s.rjust(7))      # Right-justify a string, padding with spaces; prints \"  hello\", padded with 2 (= 7 - 5) extra space\n",
    "print(s.center(7))     # Center a string, padding with spaces; prints \" hello \", \n",
    "print(s.replace('l', '(ell)'))  # Replace all instances of one substring with another; l -> ell\n",
    "                                # prints \"he(ell)(ell)o\"\n",
    "print ('  world '.strip())      # Strip leading and trailing whitespace; prints \"world\""
   ]
  },
  {
   "cell_type": "markdown",
   "metadata": {},
   "source": [
    "#### Boolean\n",
    "Python implements all of the usual operators for Boolean logic, but uses English words rather than symbols (&&, ||, etc.):\n",
    "Logic operator is not same as logic comparison, also bit operation is not designed for logic operator, See [more...][1] and very clear presented [here][2].\n",
    "\n",
    "[1]: https://www.digitalocean.com/community/tutorials/understanding-boolean-logic-in-python-3\n",
    "[2]: https://www.programiz.com/python-programming/operators"
   ]
  },
  {
   "cell_type": "code",
   "execution_count": 8,
   "metadata": {},
   "outputs": [
    {
     "name": "stdout",
     "output_type": "stream",
     "text": [
      "<class 'bool'>\n"
     ]
    }
   ],
   "source": [
    "t, f = True, False           # Define some short-cut\n",
    "print(type(t))               # <class 'bool'>"
   ]
  },
  {
   "cell_type": "code",
   "execution_count": 9,
   "metadata": {},
   "outputs": [
    {
     "name": "stdout",
     "output_type": "stream",
     "text": [
      "False\n",
      "True\n",
      "True\n"
     ]
    }
   ],
   "source": [
    "# logic operator\n",
    "# see \n",
    "print(t and f)               # logic AND; \n",
    "print(t or f)                # logic OR; \n",
    "print(not f)                 # logic NOT"
   ]
  },
  {
   "cell_type": "code",
   "execution_count": 10,
   "metadata": {},
   "outputs": [
    {
     "name": "stdout",
     "output_type": "stream",
     "text": [
      "t != f:  True\n",
      "t <> f:  False\n"
     ]
    }
   ],
   "source": [
    "# comparison operator is not the same purpose as logic operator\n",
    "print(\"t != f: \", t != f)  \n",
    "print(\"t <> f: \", t == f)  "
   ]
  },
  {
   "cell_type": "markdown",
   "metadata": {},
   "source": [
    "### Collections\n",
    "See [Python data structure][1] for more details.\n",
    "\n",
    "[1]: https://docs.python.org/3/tutorial/datastructures.html"
   ]
  },
  {
   "cell_type": "code",
   "execution_count": 11,
   "metadata": {},
   "outputs": [],
   "source": [
    "# there are several different types of collections/containers in Python\n",
    "aList  = ['a',  2, 'c', True]   # don't use keyword as a variable name, it leads to -> TypeError: 'xxx' is callable\n",
    "aTuple = ('a', 'b', 3, 'a')\n",
    "aDict  = {'a':1, 'b': True, 'c': \"name\"}\n",
    "aSet   = {'apple', 'orange', 'apple', 'pear', 'orange', 'banana'}"
   ]
  },
  {
   "cell_type": "markdown",
   "metadata": {},
   "source": [
    "#### List"
   ]
  },
  {
   "cell_type": "code",
   "execution_count": 12,
   "metadata": {},
   "outputs": [
    {
     "name": "stdout",
     "output_type": "stream",
     "text": [
      "[1, 2, 3, 4] <class 'list'>\n"
     ]
    }
   ],
   "source": [
    "ls_x = [1, 2, 3, 4]\n",
    "print(ls_x, type(ls_x))"
   ]
  },
  {
   "cell_type": "code",
   "execution_count": 13,
   "metadata": {},
   "outputs": [
    {
     "data": {
      "text/plain": [
       "[[4, 5, 6, 7], [2, 3, 4, 5]]"
      ]
     },
     "execution_count": 13,
     "metadata": {},
     "output_type": "execute_result"
    }
   ],
   "source": [
    "ls_x2 = [[4, 5, 6, 7],[2, 3, 4, 5]]\n",
    "ls_x2 # it returns\n",
    "      # [[4, 5, 6, 7], \n",
    "      #  [2, 3, 4, 5]]"
   ]
  },
  {
   "cell_type": "code",
   "execution_count": 14,
   "metadata": {},
   "outputs": [
    {
     "name": "stdout",
     "output_type": "stream",
     "text": [
      "['a', 'b', 'c', 'd']\n",
      "['a', 'b', 'c', 'd']\n"
     ]
    }
   ],
   "source": [
    "ls_y = ['a', 'b', 'c']\n",
    "ls_y.append('d')\n",
    "print(ls_y)\n",
    "\n",
    "ls_y[0]                # return 'a'\n",
    "ls_y.insert(2, 'm')    # return ['a', 'b', 'm', 'c', 'd']\n",
    "ls_y.pop(2)            # remove item by index, return ['a', 'b', 'c', 'd']\n",
    "print(ls_y)"
   ]
  },
  {
   "cell_type": "code",
   "execution_count": 15,
   "metadata": {},
   "outputs": [
    {
     "name": "stdout",
     "output_type": "stream",
     "text": [
      "['a', 'b', 1, 2, 'c']\n"
     ]
    }
   ],
   "source": [
    "ls_z = ['a', 'b', 1, 'c', 2, 'c']\n",
    "ls_z.remove('c')        # remove the first element which value has specified value -> return ['a', 'b', 1, 2, 'c']\n",
    "print(ls_z)\n",
    "# see more ... https://stackoverflow.com/questions/9405322/python-array-v-list "
   ]
  },
  {
   "cell_type": "markdown",
   "metadata": {},
   "source": [
    "##### Indexing and Slicing\n",
    "[array indexing and slicing discussion][1]\n",
    "[Table][2]\n",
    "\n",
    "```python\n",
    "Python indexes and slices for a six-element list.\n",
    "Indexes enumerate the elements, slices enumerate the spaces between the elements.\n",
    "\n",
    "Index from rear:    -6  -5  -4  -3  -2  -1      a=[0,1,2,3,4,5]    a[1:]==[1,2,3,4,5]\n",
    "Index from front:    0   1   2   3   4   5      len(a)==6          a[:5]==[0,1,2,3,4]\n",
    "                   +---+---+---+---+---+---+    a[0]==0            a[:-2]==[0,1,2,3]\n",
    "                   | a | b | c | d | e | f |    a[5]==5            a[1:2]==[1]\n",
    "                   +---+---+---+---+---+---+    a[-1]==5           a[1:-1]==[1,2,3,4]\n",
    "Slice from front:  :   1   2   3   4   5   :    a[-2]==4\n",
    "Slice from rear:   :  -5  -4  -3  -2  -1   :\n",
    "                                                b=a[:]\n",
    "                                                b==[0,1,2,3,4,5] (shallow copy of a)\n",
    "```\n",
    "\n",
    "```python\n",
    "a[start:end] # items start through end-1\n",
    "a[start:]    # items start through the rest of the array\n",
    "a[:end]      # items from the beginning through end-1\n",
    "a[:]         # a copy of the whole array\n",
    "\n",
    "a[start:end:step] # start through not past end, by step\n",
    "```\n",
    "\n",
    "[1]: https://stackoverflow.com/questions/509211/understanding-pythons-slice-notation/509295#509295\n",
    "[2]: http://wiki.python.org/moin/MovingToPythonFromOtherLanguages"
   ]
  },
  {
   "cell_type": "code",
   "execution_count": 16,
   "metadata": {},
   "outputs": [
    {
     "data": {
      "text/plain": [
       "[]"
      ]
     },
     "execution_count": 16,
     "metadata": {},
     "output_type": "execute_result"
    }
   ],
   "source": [
    "r = [1,2,3,4]\n",
    "r[1:1]"
   ]
  },
  {
   "cell_type": "code",
   "execution_count": 17,
   "metadata": {},
   "outputs": [
    {
     "data": {
      "text/plain": [
       "[1, 9, 8, 2, 3, 4]"
      ]
     },
     "execution_count": 17,
     "metadata": {},
     "output_type": "execute_result"
    }
   ],
   "source": [
    "r[1:1] = [9,8]     # insert elements at slot 1 (in front of 1 to 1)\n",
    "r"
   ]
  },
  {
   "cell_type": "code",
   "execution_count": 18,
   "metadata": {},
   "outputs": [
    {
     "data": {
      "text/plain": [
       "[1, 'blah', 9, 8, 2, 3, 4]"
      ]
     },
     "execution_count": 18,
     "metadata": {},
     "output_type": "execute_result"
    }
   ],
   "source": [
    "r[1:1] = ['blah']\n",
    "r"
   ]
  },
  {
   "cell_type": "code",
   "execution_count": 19,
   "metadata": {},
   "outputs": [
    {
     "data": {
      "text/plain": [
       "[1, 9, 8, 2, 3, 4]"
      ]
     },
     "execution_count": 19,
     "metadata": {},
     "output_type": "execute_result"
    }
   ],
   "source": [
    "r[1:2] = []        # remove elements with index 1 thru index 2\n",
    "r"
   ]
  },
  {
   "cell_type": "markdown",
   "metadata": {},
   "source": [
    "##### Subset "
   ]
  },
  {
   "cell_type": "code",
   "execution_count": 20,
   "metadata": {},
   "outputs": [
    {
     "name": "stdout",
     "output_type": "stream",
     "text": [
      "c c\n"
     ]
    }
   ],
   "source": [
    "k = ['a', 'b', 'c', 'd']\n",
    "print(k[2], k[-2])  # index = 2 from front, and index = -2 (second element from back)"
   ]
  },
  {
   "cell_type": "code",
   "execution_count": 21,
   "metadata": {},
   "outputs": [
    {
     "data": {
      "text/plain": [
       "['b', 'c']"
      ]
     },
     "execution_count": 21,
     "metadata": {},
     "output_type": "execute_result"
    }
   ],
   "source": [
    "k[1:3]              # from (zero based) index = 1 to index = 3 - 1"
   ]
  },
  {
   "cell_type": "markdown",
   "metadata": {},
   "source": [
    "##### Subset lists of lists"
   ]
  },
  {
   "cell_type": "code",
   "execution_count": 22,
   "metadata": {},
   "outputs": [
    {
     "data": {
      "text/plain": [
       "2"
      ]
     },
     "execution_count": 22,
     "metadata": {},
     "output_type": "execute_result"
    }
   ],
   "source": [
    "# ls_x2\n",
    "# [[4, 5, 6, 7], \n",
    "#  [2, 3, 4, 5]]\n",
    "\n",
    "ls_x2[1][0]          # 1st dimension index = 1, 2nd dimension index = 0 -> return 2 "
   ]
  },
  {
   "cell_type": "code",
   "execution_count": 23,
   "metadata": {},
   "outputs": [
    {
     "data": {
      "text/plain": [
       "[2, 3]"
      ]
     },
     "execution_count": 23,
     "metadata": {},
     "output_type": "execute_result"
    }
   ],
   "source": [
    "ls_x2[1][:2]         # 2nd dimension index = from 0 to (2 - 1) -> return [2, 3]"
   ]
  },
  {
   "cell_type": "markdown",
   "metadata": {},
   "source": [
    "#### Dictionary\n",
    "It has key and value pair (k-v)."
   ]
  },
  {
   "cell_type": "code",
   "execution_count": 24,
   "metadata": {},
   "outputs": [
    {
     "data": {
      "text/plain": [
       "1"
      ]
     },
     "execution_count": 24,
     "metadata": {},
     "output_type": "execute_result"
    }
   ],
   "source": [
    "# use the same name as before\n",
    "aDict  = {'a':1, 'b': True, 'c': \"name\"}\n",
    "aDict['a']      # return the value of aDict with the key = 'a', -> return 1"
   ]
  },
  {
   "cell_type": "code",
   "execution_count": 25,
   "metadata": {},
   "outputs": [
    {
     "data": {
      "text/plain": [
       "{'a': 1, 'b': True, 'c': 'name'}"
      ]
     },
     "execution_count": 25,
     "metadata": {},
     "output_type": "execute_result"
    }
   ],
   "source": [
    "aDict['d'] = 4  # add a item => return {'a': 1, 'b': True, 'c': 'name', 'd': 4}\n",
    "aDict['d'] = 7  # change the value of a key -> return {'a': 1, 'b': True, 'c': 'name', 'd': 7}\n",
    "del(aDict['d']) # remove an item with a key -> return {'a': 1, 'b': True, 'c': 'name'}\n",
    "aDict"
   ]
  },
  {
   "cell_type": "markdown",
   "metadata": {},
   "source": [
    "##### Set\n",
    "from https://docs.python.org/3/tutorial/datastructures.html#sets"
   ]
  },
  {
   "cell_type": "code",
   "execution_count": 26,
   "metadata": {},
   "outputs": [
    {
     "name": "stdout",
     "output_type": "stream",
     "text": [
      "{'b', 'd', 'a', 'c', 'r'}\n",
      "{'l', 'm', 'a', 'c', 'z'}\n",
      "{'b', 'l', 'd', 'a', 'm', 'c', 'r', 'z'}\n",
      "{'d', 'b', 'r'}\n"
     ]
    }
   ],
   "source": [
    "a = set('abracadabra')  # use 'set()' not '{}' to create set\n",
    "b = set('alacazam')\n",
    "print(a)\n",
    "print(b)\n",
    "print(a | b)    # not '+'\n",
    "print(a - b)    # letters in a but not in b\n",
    "# more ..."
   ]
  },
  {
   "cell_type": "markdown",
   "metadata": {},
   "source": [
    "#### Array\n",
    "An array has fix length and same type elements; it has specific features that are in the C array libraries. We need to import a module first.  \n",
    "- [python array doc](https://docs.python.org/3.1/library/array.html)"
   ]
  },
  {
   "cell_type": "code",
   "execution_count": 27,
   "metadata": {},
   "outputs": [
    {
     "name": "stdout",
     "output_type": "stream",
     "text": [
      "array('l', [1, 2, 3, 4]) <class 'array.array'>\n"
     ]
    }
   ],
   "source": [
    "import array\n",
    "y = array.array('l', [1, 2, 3, 4])\n",
    "print(y, type(y))"
   ]
  },
  {
   "cell_type": "markdown",
   "metadata": {},
   "source": [
    "### Function\n",
    "From [w3schools][1]:\n",
    "A function is a block of code which only runs when it is called. You can pass data, known as parameters, into a function. A function can return data as a result.\n",
    "\n",
    "[1]: https://www.w3schools.com/python/python_functions.asp"
   ]
  },
  {
   "cell_type": "code",
   "execution_count": 45,
   "metadata": {},
   "outputs": [
    {
     "name": "stdout",
     "output_type": "stream",
     "text": [
      "Emil Refsnes\n",
      "Tobias Refsnes\n",
      "Linus Refsnes\n"
     ]
    }
   ],
   "source": [
    "def my_function(fname):         # function with parameter\n",
    "  print(fname + \" Refsnes\")\n",
    "\n",
    "my_function(\"Emil\")\n",
    "my_function(\"Tobias\")\n",
    "my_function(\"Linus\")"
   ]
  },
  {
   "cell_type": "code",
   "execution_count": 46,
   "metadata": {},
   "outputs": [
    {
     "name": "stdout",
     "output_type": "stream",
     "text": [
      "15\n",
      "25\n",
      "45\n"
     ]
    }
   ],
   "source": [
    "# def my_function(x):           # name duplication, this is not allowed in scala \n",
    "def my_5times_function(x):\n",
    "  return 5 * x\n",
    "\n",
    "print(my_5times_function(3))\n",
    "print(my_5times_function(5))\n",
    "print(my_5times_function(9))"
   ]
  },
  {
   "cell_type": "markdown",
   "metadata": {},
   "source": [
    "### Class\n",
    "Python supports Object Oriented Programming.\n",
    "Examples below are from [w3schools][1]:\n",
    "\n",
    "[1]: https://www.w3schools.com/python/python_functions.asp"
   ]
  },
  {
   "cell_type": "code",
   "execution_count": 47,
   "metadata": {},
   "outputs": [
    {
     "name": "stdout",
     "output_type": "stream",
     "text": [
      "5\n"
     ]
    }
   ],
   "source": [
    "# Class has property\n",
    "class MyFirstClass:             # keyword class is lower case, class name is caspital (recommended)\n",
    "    x = 5\n",
    "    \n",
    "# instantiate one object\n",
    "p1 = MyFirstClass()\n",
    "print(p1.x)"
   ]
  },
  {
   "cell_type": "markdown",
   "metadata": {},
   "source": [
    "#### __init__() function \n",
    "All classes have a function called __init__(), which is always executed when the class is being initiated.\n",
    "\n",
    "Use the __init__() function to assign values to object properties, or other operations that are necessary to do when the object is being created:"
   ]
  },
  {
   "cell_type": "code",
   "execution_count": 48,
   "metadata": {},
   "outputs": [
    {
     "name": "stdout",
     "output_type": "stream",
     "text": [
      "John\n",
      "36\n"
     ]
    }
   ],
   "source": [
    "class Person:  # a Person class with property\n",
    "  def __init__(self, name, age):\n",
    "    self.name = name\n",
    "    self.age = age\n",
    "\n",
    "# use class\n",
    "p1 = Person(\"John\", 36)\n",
    "\n",
    "print(p1.name)  # return John\n",
    "print(p1.age)   # return 36"
   ]
  },
  {
   "cell_type": "code",
   "execution_count": 49,
   "metadata": {},
   "outputs": [
    {
     "name": "stdout",
     "output_type": "stream",
     "text": [
      "My name is Smith\n"
     ]
    }
   ],
   "source": [
    "class Person:    # a Person class with property and method/function\n",
    "    def __init__(self, name, age):\n",
    "        self.name = name\n",
    "        self.age = age\n",
    "        \n",
    "    def greeting(self):\n",
    "        print('My name is ' + self.name)\n",
    "\n",
    "# use class's method\n",
    "p2 = Person('Smith', 36)\n",
    "p2.greeting()\n",
    "\n",
    "# Note: The self parameter is a reference to the class itself, and is used to access variables that belongs to the class; only in definination."
   ]
  },
  {
   "cell_type": "markdown",
   "metadata": {},
   "source": [
    "### Functional Programming\n",
    "- no side effect\n",
    "- \n",
    "\n",
    "#### Reference\n",
    "- [Introduction to Functional Programming in Python][1]\n",
    "- [lambda, map, and filter in Python][2]\n",
    "- [zip in Python][3]\n",
    "- [List comprehension in Python][4]\n",
    "- [Introduction to Functional Programming in Python][5]\n",
    "\n",
    "[1]: https://www.dataquest.io/blog/introduction-functional-programming-python/\n",
    "[2]: https://medium.com/@happymishra66/lambda-map-and-filter-in-python-4935f248593\n",
    "[3]: https://medium.com/@happymishra66/zip-in-python-48cb4f70d013\n",
    "[4]: https://hackernoon.com/list-comprehension-in-python-8895a785550b\n",
    "[5]: https://www.dataquest.io/blog/introduction-functional-programming-python/"
   ]
  },
  {
   "cell_type": "markdown",
   "metadata": {},
   "source": [
    "#### lambda\n",
    "From [Understanding Lambda Expressions][1] and [lambda, map, and filter in Python][2]\n",
    "\n",
    "Lambda expressions (or lambda functions) are essentially blocks of code that can be assigned to variables, passed as an argument, or returned from a function call, in languages that support high-order functions. lambda operator or lambda function is used for creating small, one-time and anonymous function objects in Python.\n",
    "\n",
    "![lambda function image][3]  \n",
    "\n",
    "[Image source][1]\n",
    "\n",
    "[1]: https://medium.com/@luijar/understanding-lambda-expressions-4fb7ed216bc5\n",
    "[2]: https://medium.com/@happymishra66/lambda-map-and-filter-in-python-4935f248593\n",
    "[3]: https://www.evernote.com/l/AS7KGSPaAP9I0Z_MC5MZpLcAOBqJGObdUOkB/image.png"
   ]
  },
  {
   "cell_type": "code",
   "execution_count": 42,
   "metadata": {},
   "outputs": [
    {
     "data": {
      "text/plain": [
       "25"
      ]
     },
     "execution_count": 42,
     "metadata": {},
     "output_type": "execute_result"
    }
   ],
   "source": [
    "# normal function\n",
    "def square(x):\n",
    "    return x * x\n",
    "\n",
    "a = square(5)    # return 25\n",
    "a"
   ]
  },
  {
   "cell_type": "code",
   "execution_count": 50,
   "metadata": {},
   "outputs": [
    {
     "name": "stdout",
     "output_type": "stream",
     "text": [
      "25 <class 'int'> <class 'function'>\n"
     ]
    }
   ],
   "source": [
    "# lambda expression\n",
    "sq = lambda x: x * x        # just assign the expression to a variable, which has one parameter.\n",
    "\n",
    "b = sq(5)\n",
    "print(b, type(b), type(sq)) # b is a 'int' and sq is a 'function'\n",
    "                            # lambda can have multiple variables, but only one expression"
   ]
  },
  {
   "cell_type": "markdown",
   "metadata": {},
   "source": [
    "#### map\n"
   ]
  },
  {
   "cell_type": "markdown",
   "metadata": {},
   "source": [
    "#### filter"
   ]
  },
  {
   "cell_type": "markdown",
   "metadata": {},
   "source": [
    "#### reduce"
   ]
  },
  {
   "cell_type": "markdown",
   "metadata": {},
   "source": [
    "#### comprehension\n",
    "- [Comprehension 理解][1]\n",
    "\n",
    "\n",
    "read \n",
    "- [Comprehensions](http://python-3-patterns-idioms-test.readthedocs.io/en/latest/Comprehensions.html)\n",
    "- [set builder notation](https://en.wikipedia.org/wiki/Set-builder_notation)\n",
    "\n",
    "(1..100).map { |i| 2 * i if i.even? }\n",
    "You do this:\n",
    "\n",
    "[2 * x for x in xrange(1, 100)]\n",
    "\n",
    "\n",
    "[1]: http://python-3-patterns-idioms-test.readthedocs.io/en/latest/Comprehensions.html"
   ]
  },
  {
   "cell_type": "markdown",
   "metadata": {},
   "source": [
    "## Numpy\n",
    "\n",
    "- More compact array, and bigger array, see [here](https://stackoverflow.com/questions/993984/why-numpy-instead-of-python-lists), [here](https://stackoverflow.com/questions/15879315/what-is-the-difference-between-ndarray-and-array-in-numpy), and [difference Python and Numpy array](https://stackoverflow.com/questions/4151128/what-are-the-differences-between-numpy-arrays-and-matrices-which-one-should-i-u)\n",
    "- Built-in matrix operation\n",
    "- N-dimension array."
   ]
  },
  {
   "cell_type": "markdown",
   "metadata": {},
   "source": [
    "### Reference\n",
    "![Numpy Cheat Sheet - 1][1]\n",
    "\n",
    "[1]: https://cdn-images-1.medium.com/max/1440/1*BliZTk1BvvrcXYxj2KTzPA.png"
   ]
  },
  {
   "cell_type": "code",
   "execution_count": null,
   "metadata": {},
   "outputs": [],
   "source": []
  },
  {
   "cell_type": "markdown",
   "metadata": {},
   "source": [
    "### Variable"
   ]
  },
  {
   "cell_type": "markdown",
   "metadata": {},
   "source": [
    "### Data"
   ]
  },
  {
   "cell_type": "markdown",
   "metadata": {},
   "source": [
    "## Panda"
   ]
  },
  {
   "cell_type": "markdown",
   "metadata": {},
   "source": [
    "![Panda cheat sheet](https://cdn-images-1.medium.com/max/1440/1*esxpemF7vCfeHdN0iq6etg.png)"
   ]
  },
  {
   "cell_type": "markdown",
   "metadata": {},
   "source": [
    "### Reference\n",
    "- [Cheat Sheet][1] A quick guide to the basics of the Python data analysis library Pandas, including code samples\n",
    "- [A Visual Guide To Pandas][2]\n",
    "- [Visualize Machine Learning Data in Python With Pandas][3]\n",
    "\n",
    "[1]: https://www.datacamp.com/community/blog/python-pandas-cheat-sheet\n",
    "[2]: https://www.youtube.com/watch?v=9d5-Ti6onew\n",
    "[3]: https://machinelearningmastery.com/visualize-machine-learning-data-python-pandas/"
   ]
  },
  {
   "cell_type": "markdown",
   "metadata": {},
   "source": [
    "### Variable"
   ]
  },
  {
   "cell_type": "markdown",
   "metadata": {},
   "source": [
    "### Data"
   ]
  },
  {
   "cell_type": "markdown",
   "metadata": {},
   "source": [
    "## Matplotlib"
   ]
  },
  {
   "cell_type": "markdown",
   "metadata": {},
   "source": [
    "![Matplotlib Cheat Sheet](https://cdn-images-1.medium.com/max/1440/1*aRPg1exZiZums3ksn4bktA.png)"
   ]
  },
  {
   "cell_type": "markdown",
   "metadata": {},
   "source": [
    "### Reference"
   ]
  },
  {
   "cell_type": "markdown",
   "metadata": {},
   "source": [
    "### Variable"
   ]
  },
  {
   "cell_type": "markdown",
   "metadata": {},
   "source": [
    "### Data"
   ]
  },
  {
   "cell_type": "code",
   "execution_count": null,
   "metadata": {},
   "outputs": [],
   "source": []
  }
 ],
 "metadata": {
  "kernelspec": {
   "display_name": "Python 3",
   "language": "python",
   "name": "python3"
  },
  "language_info": {
   "codemirror_mode": {
    "name": "ipython",
    "version": 3
   },
   "file_extension": ".py",
   "mimetype": "text/x-python",
   "name": "python",
   "nbconvert_exporter": "python",
   "pygments_lexer": "ipython3",
   "version": "3.6.5"
  }
 },
 "nbformat": 4,
 "nbformat_minor": 2
}
