{
 "cells": [
  {
   "cell_type": "markdown",
   "metadata": {},
   "source": [
    "# Learning Python, Numpy, Panda and Matplotlib for Data Science part-2 Numpy, Panda"
   ]
  },
  {
   "cell_type": "code",
   "execution_count": null,
   "metadata": {},
   "outputs": [],
   "source": []
  },
  {
   "cell_type": "markdown",
   "metadata": {},
   "source": [
    "## Numpy\n",
    "\n",
    "- More compact array, and bigger array, see [here](https://stackoverflow.com/questions/993984/why-numpy-instead-of-python-lists), [here](https://stackoverflow.com/questions/15879315/what-is-the-difference-between-ndarray-and-array-in-numpy), and [difference Python and Numpy array](https://stackoverflow.com/questions/4151128/what-are-the-differences-between-numpy-arrays-and-matrices-which-one-should-i-u)\n",
    "- Built-in matrix operation\n",
    "- N-dimension array."
   ]
  },
  {
   "cell_type": "markdown",
   "metadata": {},
   "source": [
    "### Reference\n",
    "![Numpy Cheat Sheet - 1][1]\n",
    "\n",
    "[1]: https://cdn-images-1.medium.com/max/1440/1*BliZTk1BvvrcXYxj2KTzPA.png"
   ]
  },
  {
   "cell_type": "code",
   "execution_count": null,
   "metadata": {},
   "outputs": [],
   "source": []
  },
  {
   "cell_type": "markdown",
   "metadata": {},
   "source": [
    "### Variable"
   ]
  },
  {
   "cell_type": "markdown",
   "metadata": {},
   "source": [
    "### Data"
   ]
  },
  {
   "cell_type": "markdown",
   "metadata": {},
   "source": [
    "## Panda"
   ]
  },
  {
   "cell_type": "markdown",
   "metadata": {},
   "source": [
    "![Panda cheat sheet](https://cdn-images-1.medium.com/max/1440/1*esxpemF7vCfeHdN0iq6etg.png)"
   ]
  },
  {
   "cell_type": "markdown",
   "metadata": {},
   "source": [
    "### Reference\n",
    "- [Cheat Sheet][1] A quick guide to the basics of the Python data analysis library Pandas, including code samples\n",
    "- [A Visual Guide To Pandas][2]\n",
    "- [Visualize Machine Learning Data in Python With Pandas][3]\n",
    "\n",
    "[1]: https://www.datacamp.com/community/blog/python-pandas-cheat-sheet\n",
    "[2]: https://www.youtube.com/watch?v=9d5-Ti6onew\n",
    "[3]: https://machinelearningmastery.com/visualize-machine-learning-data-python-pandas/"
   ]
  },
  {
   "cell_type": "markdown",
   "metadata": {},
   "source": [
    "### Variable"
   ]
  },
  {
   "cell_type": "markdown",
   "metadata": {},
   "source": [
    "### Data"
   ]
  },
  {
   "cell_type": "markdown",
   "metadata": {},
   "source": [
    "## Matplotlib"
   ]
  },
  {
   "cell_type": "markdown",
   "metadata": {},
   "source": [
    "![Matplotlib Cheat Sheet](https://cdn-images-1.medium.com/max/1440/1*aRPg1exZiZums3ksn4bktA.png)"
   ]
  },
  {
   "cell_type": "markdown",
   "metadata": {},
   "source": [
    "### Reference"
   ]
  },
  {
   "cell_type": "markdown",
   "metadata": {},
   "source": [
    "### Variable"
   ]
  },
  {
   "cell_type": "markdown",
   "metadata": {},
   "source": [
    "### Data"
   ]
  },
  {
   "cell_type": "code",
   "execution_count": null,
   "metadata": {},
   "outputs": [],
   "source": []
  }
 ],
 "metadata": {
  "kernelspec": {
   "display_name": "Python 3",
   "language": "python",
   "name": "python3"
  },
  "language_info": {
   "codemirror_mode": {
    "name": "ipython",
    "version": 3
   },
   "file_extension": ".py",
   "mimetype": "text/x-python",
   "name": "python",
   "nbconvert_exporter": "python",
   "pygments_lexer": "ipython3",
   "version": "3.6.5"
  }
 },
 "nbformat": 4,
 "nbformat_minor": 2
}
